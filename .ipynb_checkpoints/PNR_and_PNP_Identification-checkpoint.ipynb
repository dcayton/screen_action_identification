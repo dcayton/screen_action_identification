{
 "cells": [
  {
   "cell_type": "markdown",
   "id": "0db1cf8b",
   "metadata": {},
   "source": [
    "# Identifying Pick-and-Roll and Pick-and-Pop Actions throughout NBA Games #\n",
    "\n",
    "-------\n",
    "\n",
    "### Introduction ###\n",
    "\n",
    "In this notebook, we will be taking raw SportVU NBA Tracking Data from the 2015-16 NBA season, which is combined with play-by-play data to devise a method to identify pick-and-roll and pick-and-pop actions across NBA games. The data used comes from the following repository: `https://huggingface.co/datasets/dcayton/nba_tracking_data_15_16`. I engineered this huggingface data repository, by combining sources of tracking data and play-by-play data.\n",
    "\n",
    "The use-case of this can be for more efficient scouting and could be applied to other events with other outlined criteria in a similar fashion. This builds on prior work that simply identified on-ball screens, and this work looks to expand on that work by identifying specific actions that exist and differentiate the purpose of those ball screens."
   ]
  },
  {
   "cell_type": "code",
   "execution_count": 1,
   "id": "87a763da",
   "metadata": {},
   "outputs": [
    {
     "name": "stderr",
     "output_type": "stream",
     "text": [
      "Found cached dataset nba_tracking_data_15_16 (/Users/donaldcayton/.cache/huggingface/datasets/dcayton___nba_tracking_data_15_16/tiny/0.0.0/a3ed766a64c7fc2f537ccd1cca3be25421721281bbc1c71ae56fde96c826f683)\n"
     ]
    },
    {
     "data": {
      "application/vnd.jupyter.widget-view+json": {
       "model_id": "75584c510b8a4a4fbabb1165a941978d",
       "version_major": 2,
       "version_minor": 0
      },
      "text/plain": [
       "  0%|          | 0/1 [00:00<?, ?it/s]"
      ]
     },
     "metadata": {},
     "output_type": "display_data"
    }
   ],
   "source": [
    "import py7zr\n",
    "from datasets import load_dataset\n",
    "import matplotlib.pyplot as plt\n",
    "import pandas as pd\n",
    "import numpy as np\n",
    "\n",
    "dataset = load_dataset(\"dcayton/nba_tracking_data_15_16\", name = \"tiny\")"
   ]
  },
  {
   "cell_type": "code",
   "execution_count": 23,
   "id": "6d820844",
   "metadata": {},
   "outputs": [
    {
     "name": "stdout",
     "output_type": "stream",
     "text": [
      "{'event_info': {'desc_away': 'nan',\n",
      "                'desc_home': 'Jump Ball Mahinmi vs. Whiteside: Tip to Allen',\n",
      "                'id': '1',\n",
      "                'possession_team_id': None,\n",
      "                'type': 10},\n",
      " 'gamedate': '2015-12-11',\n",
      " 'gameid': '0021500333',\n",
      " 'home': {'abbreviation': 'IND',\n",
      "          'name': 'Indiana Pacers',\n",
      "          'players': [...],\n",
      "          'teamid': 1610612754},\n",
      " 'moments': [{...}, {...}, {...}, {...}, {...}, {...}, {...}, {...}, {...},\n",
      "             {...}, {...}, {...}, {...}, {...}, {...}, {...}, {...}, {...},\n",
      "             {...}, {...}, {...}, {...}, {...}, {...}, {...}, {...}, {...},\n",
      "             {...}, {...}, {...}, {...}, {...}, {...}, {...}, {...}, {...},\n",
      "             {...}, {...}, {...}, {...}, {...}, {...}, {...}, {...}, {...},\n",
      "             {...}, {...}, {...}, {...}, {...}, {...}, {...}, {...}, {...},\n",
      "             {...}, {...}, {...}, {...}, {...}, {...}, {...}, {...}, {...},\n",
      "             {...}, {...}, {...}, {...}, {...}, {...}, {...}, {...}, {...},\n",
      "             {...}, {...}, {...}, {...}, {...}, {...}, {...}, {...}, {...},\n",
      "             {...}, {...}, {...}, {...}, {...}, {...}, {...}, {...}, {...},\n",
      "             {...}, {...}, {...}, {...}, {...}, {...}, {...}, {...}, {...},\n",
      "             {...}, {...}, {...}, {...}, {...}, {...}, {...}, {...}, {...},\n",
      "             {...}, {...}, {...}, {...}, {...}, {...}, {...}, {...}, {...},\n",
      "             {...}, {...}, {...}, {...}, {...}, {...}, {...}, {...}, {...},\n",
      "             {...}, {...}, {...}, {...}, {...}, {...}, {...}, {...}, {...},\n",
      "             {...}, {...}, {...}, {...}, {...}, {...}, {...}, {...}, {...},\n",
      "             {...}, {...}, {...}, {...}, {...}, {...}],\n",
      " 'primary_info': {'player_id': 101133.0,\n",
      "                  'team': 'home',\n",
      "                  'team_id': 1610612754.0},\n",
      " 'secondary_info': {'player_id': 202355.0,\n",
      "                    'team': 'away',\n",
      "                    'team_id': 1610612748.0},\n",
      " 'visitor': {'abbreviation': 'MIA',\n",
      "             'name': 'Miami Heat',\n",
      "             'players': [...],\n",
      "             'teamid': 1610612748}}\n"
     ]
    }
   ],
   "source": [
    "import pprint\n",
    "event = next(iter(dataset['train']))\n",
    "\n",
    "# checking the structure of the data\n",
    "pp = pprint.PrettyPrinter(depth=2, compact = True)\n",
    "pp.pprint(event)"
   ]
  },
  {
   "cell_type": "markdown",
   "id": "3832e9c6",
   "metadata": {},
   "source": [
    "Also, we can ensure that the data is able to be visualized and worked with as desired. In this situation, red is the away team (Miami Heat) and blue is the home team (Indiana Pacers)."
   ]
  },
  {
   "cell_type": "code",
   "execution_count": 24,
   "id": "f4f30ca0",
   "metadata": {},
   "outputs": [
    {
     "data": {
      "image/png": "[encoded data removed]",
      "text/plain": [
       "<Figure size 640x480 with 1 Axes>"
      ]
     },
     "metadata": {},
     "output_type": "display_data"
    }
   ],
   "source": [
    "from court_elements import horizontal_court_elements\n",
    "\n",
    "fig, ax = plt.subplots()\n",
    "\n",
    "event = next(iter(dataset['train']))\n",
    "\n",
    "for moment in event['moments']:\n",
    "    for player_coord in moment['player_coordinates']:\n",
    "        if player_coord['teamid'] == event['home']['teamid']:\n",
    "            c = 'b'\n",
    "        else:\n",
    "            c = 'r'\n",
    "        plt.plot(player_coord['x'], player_coord['y'], 'o', markersize=2, color=c)\n",
    "\n",
    "    plt.plot(moment['ball_coordinates']['x'], moment['ball_coordinates']['y'], 'o', markersize = 1, color = 'peru')\n",
    "\n",
    "court_elements = horizontal_court_elements()\n",
    "\n",
    "for element in court_elements:\n",
    "    ax.add_patch(element)\n",
    "\n",
    "plt.xlim(0, 94)\n",
    "plt.ylim(0, 50)\n",
    "plt.gca().set_aspect('equal', adjustable='box')\n",
    "plt.show();"
   ]
  },
  {
   "cell_type": "markdown",
   "id": "f048caf6",
   "metadata": {},
   "source": [
    "-----------\n",
    "### Pre-processing ###\n",
    "Before any modeling, a significant amount of data processing must be done. Since we are searching for pick-and-roll and pick-and-pop actions, we must filter the events through a candidate algorithm, so that we can create a more efficient training set.\n",
    "\n",
    "Prior to this though, we need to shift the left-to-right coordinate data all to one direction representing the half-court for the team in possession. This helps us standardize the later search criteria. Also, we can narrow the actions we will classify to only include actions that correspond to a made shot, missed shot, turnover, and foul, as these are all offensive plays that may include a desired action. A defensive play like a rebound or block will not be helpful (and also may crossover with a shot anyways). Likewise, a technical event, such as a substitution or foul shot, is not helpful as the ball is not in play.\n",
    "\n",
    "After filtering and rotating, a criteria to identify potential PNR/PNP situations is devised.\n",
    "1. ID ball-handler\n",
    "2. ID on-ball defender\n",
    "3. ID screener\n",
    "4. ID if a moment is a ball-screen\n",
    "5. ID if a ball-screen continues for 8 or more frames (1/3 of a second)\n",
    "\n",
    "Once the candidates are filtered, they can be saved in a separate generator to be worked with exclusively.\n",
    "\n",
    "These functions are saved in the following files `id_utility_functions.py` and `filter_candidates.py`, which can be accessed in the repository. They will be called here."
   ]
  },
  {
   "cell_type": "code",
   "execution_count": 25,
   "id": "3b699fd0",
   "metadata": {},
   "outputs": [
    {
     "name": "stdout",
     "output_type": "stream",
     "text": [
      "2219\n",
      "239\n"
     ]
    }
   ],
   "source": [
    "import filter_candidates as fc\n",
    "\n",
    "filtered_events = fc.filter_candidate_events(dataset['train'])\n",
    "print(len(dataset['train']))\n",
    "print(sum(1 for _ in filtered_events))"
   ]
  },
  {
   "cell_type": "markdown",
   "id": "40d53825",
   "metadata": {},
   "source": [
    "After filtering, it is indicated that about 1 in 10 events contains a potential PNR or PNP situation. This makes sense as there are events pertaining to substitutions, free throws, rebounds, and blocks which all don't have a chance to be a desired action. Then beyond that, not all offensive plays have potential candidates in them either, so we are comfortable with the 1 in 10 criteria.\n",
    "\n",
    "However, a limitation I have noticed is that some plays with desired actions are omitted (though very few), which after investigation is due to missing locations for a given moment. We choose to ignore these missing actions, as though it is important to capture them, we have no way to account for that missing data.\n",
    "\n",
    "-------------\n",
    "\n",
    "### Plotting Events ###\n",
    "For the first attempt at classification, we will use image classification with diagrams of the play, illustrated using coordinate data. This is saved in a low pixel image, for a lower feature space. This attempts to 'blur' the plays and generalize the model features. Below is an example of an output for an event."
   ]
  },
  {
   "cell_type": "code",
   "execution_count": 26,
   "id": "b31be3db",
   "metadata": {},
   "outputs": [
    {
     "name": "stdout",
     "output_type": "stream",
     "text": [
      "0021500333\n",
      "6\n",
      "Mahinmi STEAL (1 STL)\n",
      "Whiteside Lost Ball Turnover (P1.T1)\n"
     ]
    },
    {
     "data": {
      "image/png": "[encoded data removed]",
      "text/plain": [
       "<Figure size 64x64 with 1 Axes>"
      ]
     },
     "metadata": {},
     "output_type": "display_data"
    }
   ],
   "source": [
    "from court_elements import vertical_halfcourt_elements\n",
    "\n",
    "filtered_events = fc.filter_candidate_events(dataset['train'])\n",
    "\n",
    "event = next(iter(filtered_events))\n",
    "print(event['gameid'])\n",
    "print(event['event_info']['id'])\n",
    "print(event['event_info']['desc_home'])\n",
    "print(event['event_info']['desc_away'])\n",
    "\n",
    "screen_start = event['event_info']['screen_frame_start']\n",
    "screen_end = event['event_info']['screen_frame_end'] + 30\n",
    "\n",
    "fig, ax = plt.subplots(figsize=(4, 4), dpi = 16)\n",
    "\n",
    "# from screen to 1 sec after screen\n",
    "for moment in event['moments'][screen_start:screen_end]:\n",
    "\n",
    "    for player_coord in moment['player_coordinates']:\n",
    "        if player_coord['playerid'] == event['event_info']['handler_id']:\n",
    "            c = 'r'\n",
    "        elif player_coord['playerid'] == event['event_info']['screener_id']:\n",
    "            c = 'b'\n",
    "        else:\n",
    "            continue\n",
    "        plt.plot(player_coord['x'], player_coord['y'], 'o', markersize=3, color=c)\n",
    "        \n",
    "    # option to plot ball position\n",
    "    # ball_x = moment['ball_coordinates']['x']\n",
    "    # ball_y = moment['ball_coordinates']['y']\n",
    "    # plt.plot(ball_x, ball_y, 'o', markersize=1, color='k')\n",
    "\n",
    "court_elements = vertical_halfcourt_elements()\n",
    "\n",
    "for element in court_elements:\n",
    "    ax.add_patch(element)\n",
    "\n",
    "plt.xlim(0, 50)\n",
    "plt.ylim(47, 94)\n",
    "plt.gca().set_aspect('equal', adjustable='box')\n",
    "plt.show();"
   ]
  },
  {
   "cell_type": "markdown",
   "id": "db06e234",
   "metadata": {},
   "source": [
    "Now that we've figured out a way to save the images, we will save the output images to a folder in our repository for later access."
   ]
  },
  {
   "cell_type": "code",
   "execution_count": 28,
   "id": "a869daa3",
   "metadata": {},
   "outputs": [],
   "source": [
    "filtered_events = fc.filter_candidate_events(dataset['train'])\n",
    "\n",
    "event_prior_stamp_start = 0\n",
    "\n",
    "for event in filtered_events:\n",
    "    if event['event_info']['screen_time_stamps'][0] == event_prior_stamp_start:\n",
    "        continue\n",
    "\n",
    "    fig, ax = plt.subplots(figsize=(4, 4), dpi = 16)\n",
    "\n",
    "    screen_start = event['event_info']['screen_frame_start']\n",
    "    screen_end = event['event_info']['screen_frame_end'] + 30\n",
    "\n",
    "    # from screen to 1 sec after screen\n",
    "    for moment in event['moments'][screen_start:screen_end]:\n",
    "\n",
    "        for player_coord in moment['player_coordinates']:\n",
    "            if player_coord['playerid'] == event['event_info']['handler_id']:\n",
    "                c = 'r'\n",
    "            elif player_coord['playerid'] == event['event_info']['screener_id']:\n",
    "                c = 'b'\n",
    "            else:\n",
    "                continue\n",
    "            plt.plot(player_coord['x'], player_coord['y'], 'o', markersize=3, color=c)\n",
    "\n",
    "\n",
    "    event_prior_stamp_start = event['event_info']['screen_time_stamps'][0]\n",
    "    \n",
    "    court_elements = vertical_halfcourt_elements()\n",
    "\n",
    "    for element in court_elements:\n",
    "        ax.add_patch(element)\n",
    "\n",
    "    plt.xlim(0, 50)\n",
    "    plt.ylim(47, 94)\n",
    "    plt.gca().set_aspect('equal', adjustable='box')\n",
    "    plt.savefig('event_images/' + event['gameid'] + \"_\" + event['event_info']['id'] + \".png\")\n",
    "    plt.clf()\n",
    "    plt.close();"
   ]
  },
  {
   "cell_type": "markdown",
   "id": "2684bbcc",
   "metadata": {},
   "source": [
    "### Creating Event Features ###\n",
    "\n",
    "The other feature set for classification will be derived features that are extracted from the tracking data. This won't be images, but they will be coordinates of the handler and screener at the start and end of play, the average velocity across the play, the distance covered by the handler and screener, and finally the position of the handler and screener. The function for creating these features is stored in `csv_creators`."
   ]
  },
  {
   "cell_type": "code",
   "execution_count": 14,
   "id": "b0003bda",
   "metadata": {},
   "outputs": [],
   "source": [
    "from csv_creators import *\n",
    "\n",
    "filtered_events = fc.filter_candidate_events(dataset['train'])\n",
    "tabular_features = play_feature_csv_generator(filtered_events)\n",
    "tabular_features.to_csv('play_features.csv')"
   ]
  },
  {
   "cell_type": "markdown",
   "id": "6b20e3e8",
   "metadata": {},
   "source": [
    "-------\n",
    "\n",
    "### Labeling the Data ###\n",
    "\n",
    "Since this data is solely the coordinates and play-by-play data, we need to label the candidate events by if they are pick-and-roll, pick-and-pop or nothing. We could do this within python, but it will be easier to extract a csv, open it in Google Sheets or Excel, add a label column and manually create a label based on film of each event and plotting the moment of screen (using above plot format).\n",
    "\n",
    "The film of each event can be obtained in a link of the following format:\n",
    "- https://www.nba.com/game/mia-vs-ind-0021500333/play-by-play\n",
    "\n",
    "The features extracted in the following csv also help for event identification, as the game clock, handler name, and screener name all help for visual identification."
   ]
  },
  {
   "cell_type": "code",
   "execution_count": 16,
   "id": "f927d7fd",
   "metadata": {},
   "outputs": [],
   "source": [
    "filtered_events = fc.filter_candidate_events(dataset['train'])\n",
    "new_info = play_csv_generator(filtered_events)\n",
    "new_info.to_csv('potential_screens.csv')"
   ]
  },
  {
   "cell_type": "markdown",
   "id": "1fcf26a4",
   "metadata": {},
   "source": [
    "---------\n",
    "\n",
    "### Image Classification ###\n",
    "\n",
    "Once pre-processing, feature engineering, and event labelling has been completed, we can begin modeling. The first method that will be explored is image classification. Since there are small, hard-to-discern differences between these images and there are relatively few images in the training set (less than 200 after split), I chose to try a Random Forest and SVM for image classification. I specifically did not choose a Neural Network, there weren't enough samples to accurately train."
   ]
  },
  {
   "cell_type": "code",
   "execution_count": 4,
   "id": "cab6a89e",
   "metadata": {},
   "outputs": [],
   "source": [
    "import os\n",
    "import cv2\n",
    "from sklearn.model_selection import train_test_split\n",
    "from sklearn.svm import SVC\n",
    "from sklearn.ensemble import RandomForestClassifier\n",
    "from sklearn.metrics import accuracy_score, f1_score\n",
    "from sklearn.model_selection import GridSearchCV\n",
    "\n",
    "event_images_path = 'event_images'\n",
    "event_info = pd.read_csv('potential_screens.csv')\n",
    "labels = []\n",
    "images = []\n",
    "\n",
    "for index, row in event_info.iterrows():\n",
    "    img_name = os.path.join(event_images_path, row['image_paths'])\n",
    "    img = cv2.imread(img_name)\n",
    "    img_flattened = img.flatten()  # Flatten the image into a 1D array\n",
    "    images.append(img_flattened)\n",
    "    labels.append(row['label'])\n",
    "\n",
    "X = np.array(images)\n",
    "y = np.array(labels)\n",
    "\n",
    "X_train, X_test, y_train, y_test = train_test_split(X, y, test_size=0.2, random_state=29, stratify = y)"
   ]
  },
  {
   "cell_type": "code",
   "execution_count": 6,
   "id": "bc261c3c",
   "metadata": {},
   "outputs": [
    {
     "name": "stdout",
     "output_type": "stream",
     "text": [
      "{'C': 0.1, 'gamma': 0.01, 'kernel': 'poly'}\n"
     ]
    }
   ],
   "source": [
    "# finding best hyperparams for SVM\n",
    "svm_image_classifier = SVC(probability = True)\n",
    "\n",
    "param_grid = {'C': [0.1, .5, 1, 5, 10], 'gamma': [.01, .1, 1], 'kernel': ['linear', 'poly', 'rbf']}\n",
    "\n",
    "grid_search = GridSearchCV(svm_image_classifier, param_grid, refit = True, scoring = \"f1_weighted\", cv=5)\n",
    "grid_search.fit(X_train, y_train)\n",
    "\n",
    "svm_best_params = grid_search.best_params_\n",
    "print(svm_best_params)"
   ]
  },
  {
   "cell_type": "code",
   "execution_count": 7,
   "id": "d7ab95a4",
   "metadata": {},
   "outputs": [
    {
     "name": "stdout",
     "output_type": "stream",
     "text": [
      "{'max_features': 'log2', 'min_samples_split': 6, 'n_estimators': 10}\n"
     ]
    }
   ],
   "source": [
    "# finding best hyperparams for RF\n",
    "rf_image_classifier = RandomForestClassifier()\n",
    "\n",
    "param_grid = {'n_estimators': [10, 50, 100, 500], 'max_features': [None, 'sqrt', 'log2'], 'min_samples_split': [2, 4, 6]}\n",
    "\n",
    "grid_search = GridSearchCV(rf_image_classifier, param_grid, refit = True, scoring = \"f1_weighted\", cv=5)\n",
    "grid_search.fit(X_train, y_train)\n",
    "\n",
    "rf_best_params = grid_search.best_params_\n",
    "print(rf_best_params)"
   ]
  },
  {
   "cell_type": "code",
   "execution_count": 8,
   "id": "a82f6836",
   "metadata": {},
   "outputs": [
    {
     "name": "stdout",
     "output_type": "stream",
     "text": [
      "SVM Image Classification Accuracy: 0.5227\n",
      "SVM F1 Weighted Score: 0.4983\n",
      "RF Image Classification Accuracy: 0.5227\n",
      "RF F1 Weighted Score: 0.5808\n"
     ]
    }
   ],
   "source": [
    "# training models\n",
    "svm_image_classifier = SVC(C = svm_best_params['C'], gamma = svm_best_params['gamma'], kernel = svm_best_params['kernel'], probability = True)\n",
    "rf_image_classifier = RandomForestClassifier(n_estimators = rf_best_params['n_estimators'], max_features = rf_best_params['max_features'], min_samples_split = rf_best_params['min_samples_split'])\n",
    "\n",
    "svm_image_classifier.fit(X_train, y_train)\n",
    "rf_image_classifier.fit(X_train, y_train)\n",
    "\n",
    "svm_pred = svm_image_classifier.predict(X_test)\n",
    "rf_pred = rf_image_classifier.predict(X_test)\n",
    "\n",
    "print(f\"SVM Image Classification Accuracy: {round(accuracy_score(y_test, svm_pred), 4)}\")\n",
    "print(f\"SVM F1 Weighted Score: {round(f1_score(y_test, svm_pred, average = 'weighted'), 4)}\")\n",
    "\n",
    "print(f\"RF Image Classification Accuracy: {round(accuracy_score(y_test, svm_pred), 4)}\")\n",
    "print(f\"RF F1 Weighted Score: {round(f1_score(y_test, rf_pred, average = 'weighted'), 4)}\")"
   ]
  },
  {
   "cell_type": "markdown",
   "id": "94742348",
   "metadata": {},
   "source": [
    "The output of both SVM image classification and Random Forest image classification is not inspiring. The rather low scores prove this at around 50% accuracy coupled with not great weighted F1 scores for both methods.\n",
    "\n",
    "-----------\n",
    "\n",
    "### Using Engineered Features ###\n",
    "\n",
    "The image classification was not a successful endeavor, but we can try using the csv of engineered features we created earlier to attempt greater success.\n"
   ]
  },
  {
   "cell_type": "code",
   "execution_count": 10,
   "id": "5bce01c4",
   "metadata": {},
   "outputs": [
    {
     "data": {
      "text/html": [
       "<div>\n",
       "<style scoped>\n",
       "    .dataframe tbody tr th:only-of-type {\n",
       "        vertical-align: middle;\n",
       "    }\n",
       "\n",
       "    .dataframe tbody tr th {\n",
       "        vertical-align: top;\n",
       "    }\n",
       "\n",
       "    .dataframe thead th {\n",
       "        text-align: right;\n",
       "    }\n",
       "</style>\n",
       "<table border=\"1\" class=\"dataframe\">\n",
       "  <thead>\n",
       "    <tr style=\"text-align: right;\">\n",
       "      <th></th>\n",
       "      <th>handler_distance</th>\n",
       "      <th>screener_distance</th>\n",
       "      <th>handler_avg_velo</th>\n",
       "      <th>screener_avg_velo</th>\n",
       "      <th>handler_start_x</th>\n",
       "      <th>handler_start_y</th>\n",
       "      <th>screener_start_x</th>\n",
       "      <th>screener_start_y</th>\n",
       "      <th>handler_end_x</th>\n",
       "      <th>handler_end_y</th>\n",
       "      <th>...</th>\n",
       "      <th>handler_position_C</th>\n",
       "      <th>handler_position_F</th>\n",
       "      <th>handler_position_F-C</th>\n",
       "      <th>handler_position_G</th>\n",
       "      <th>handler_position_G-F</th>\n",
       "      <th>screener_position_C</th>\n",
       "      <th>screener_position_F</th>\n",
       "      <th>screener_position_F-C</th>\n",
       "      <th>screener_position_G</th>\n",
       "      <th>screener_position_G-F</th>\n",
       "    </tr>\n",
       "  </thead>\n",
       "  <tbody>\n",
       "    <tr>\n",
       "      <th>0</th>\n",
       "      <td>-1.643483</td>\n",
       "      <td>1.612936</td>\n",
       "      <td>-1.593351</td>\n",
       "      <td>1.847579</td>\n",
       "      <td>0.914089</td>\n",
       "      <td>2.178985</td>\n",
       "      <td>1.391632</td>\n",
       "      <td>1.590210</td>\n",
       "      <td>0.980849</td>\n",
       "      <td>1.616014</td>\n",
       "      <td>...</td>\n",
       "      <td>1.0</td>\n",
       "      <td>0.0</td>\n",
       "      <td>0.0</td>\n",
       "      <td>0.0</td>\n",
       "      <td>0.0</td>\n",
       "      <td>0.0</td>\n",
       "      <td>0.0</td>\n",
       "      <td>0.0</td>\n",
       "      <td>1.0</td>\n",
       "      <td>0.0</td>\n",
       "    </tr>\n",
       "    <tr>\n",
       "      <th>1</th>\n",
       "      <td>-0.966879</td>\n",
       "      <td>3.280209</td>\n",
       "      <td>-1.116972</td>\n",
       "      <td>2.741370</td>\n",
       "      <td>1.132512</td>\n",
       "      <td>0.737087</td>\n",
       "      <td>1.349950</td>\n",
       "      <td>0.714861</td>\n",
       "      <td>0.818935</td>\n",
       "      <td>-1.135463</td>\n",
       "      <td>...</td>\n",
       "      <td>0.0</td>\n",
       "      <td>0.0</td>\n",
       "      <td>0.0</td>\n",
       "      <td>1.0</td>\n",
       "      <td>0.0</td>\n",
       "      <td>0.0</td>\n",
       "      <td>1.0</td>\n",
       "      <td>0.0</td>\n",
       "      <td>0.0</td>\n",
       "      <td>0.0</td>\n",
       "    </tr>\n",
       "    <tr>\n",
       "      <th>2</th>\n",
       "      <td>0.905280</td>\n",
       "      <td>0.418506</td>\n",
       "      <td>0.711958</td>\n",
       "      <td>0.313831</td>\n",
       "      <td>0.308786</td>\n",
       "      <td>-1.097858</td>\n",
       "      <td>0.167329</td>\n",
       "      <td>-0.949175</td>\n",
       "      <td>-0.563238</td>\n",
       "      <td>0.142802</td>\n",
       "      <td>...</td>\n",
       "      <td>0.0</td>\n",
       "      <td>0.0</td>\n",
       "      <td>0.0</td>\n",
       "      <td>1.0</td>\n",
       "      <td>0.0</td>\n",
       "      <td>0.0</td>\n",
       "      <td>0.0</td>\n",
       "      <td>1.0</td>\n",
       "      <td>0.0</td>\n",
       "      <td>0.0</td>\n",
       "    </tr>\n",
       "    <tr>\n",
       "      <th>3</th>\n",
       "      <td>-0.032158</td>\n",
       "      <td>-0.408997</td>\n",
       "      <td>0.203004</td>\n",
       "      <td>-0.209677</td>\n",
       "      <td>1.232351</td>\n",
       "      <td>-0.042941</td>\n",
       "      <td>1.248219</td>\n",
       "      <td>0.247638</td>\n",
       "      <td>1.352846</td>\n",
       "      <td>0.964804</td>\n",
       "      <td>...</td>\n",
       "      <td>0.0</td>\n",
       "      <td>0.0</td>\n",
       "      <td>0.0</td>\n",
       "      <td>1.0</td>\n",
       "      <td>0.0</td>\n",
       "      <td>0.0</td>\n",
       "      <td>0.0</td>\n",
       "      <td>1.0</td>\n",
       "      <td>0.0</td>\n",
       "      <td>0.0</td>\n",
       "    </tr>\n",
       "    <tr>\n",
       "      <th>4</th>\n",
       "      <td>-1.093847</td>\n",
       "      <td>-0.783444</td>\n",
       "      <td>-0.846935</td>\n",
       "      <td>-0.515225</td>\n",
       "      <td>0.218305</td>\n",
       "      <td>-1.290789</td>\n",
       "      <td>0.269808</td>\n",
       "      <td>-1.104495</td>\n",
       "      <td>-0.041792</td>\n",
       "      <td>-1.513329</td>\n",
       "      <td>...</td>\n",
       "      <td>0.0</td>\n",
       "      <td>0.0</td>\n",
       "      <td>0.0</td>\n",
       "      <td>1.0</td>\n",
       "      <td>0.0</td>\n",
       "      <td>0.0</td>\n",
       "      <td>0.0</td>\n",
       "      <td>1.0</td>\n",
       "      <td>0.0</td>\n",
       "      <td>0.0</td>\n",
       "    </tr>\n",
       "  </tbody>\n",
       "</table>\n",
       "<p>5 rows × 23 columns</p>\n",
       "</div>"
      ],
      "text/plain": [
       "   handler_distance  screener_distance  handler_avg_velo  screener_avg_velo  \\\n",
       "0         -1.643483           1.612936         -1.593351           1.847579   \n",
       "1         -0.966879           3.280209         -1.116972           2.741370   \n",
       "2          0.905280           0.418506          0.711958           0.313831   \n",
       "3         -0.032158          -0.408997          0.203004          -0.209677   \n",
       "4         -1.093847          -0.783444         -0.846935          -0.515225   \n",
       "\n",
       "   handler_start_x  handler_start_y  screener_start_x  screener_start_y  \\\n",
       "0         0.914089         2.178985          1.391632          1.590210   \n",
       "1         1.132512         0.737087          1.349950          0.714861   \n",
       "2         0.308786        -1.097858          0.167329         -0.949175   \n",
       "3         1.232351        -0.042941          1.248219          0.247638   \n",
       "4         0.218305        -1.290789          0.269808         -1.104495   \n",
       "\n",
       "   handler_end_x  handler_end_y  ...  handler_position_C  handler_position_F  \\\n",
       "0       0.980849       1.616014  ...                 1.0                 0.0   \n",
       "1       0.818935      -1.135463  ...                 0.0                 0.0   \n",
       "2      -0.563238       0.142802  ...                 0.0                 0.0   \n",
       "3       1.352846       0.964804  ...                 0.0                 0.0   \n",
       "4      -0.041792      -1.513329  ...                 0.0                 0.0   \n",
       "\n",
       "  handler_position_F-C  handler_position_G  handler_position_G-F  \\\n",
       "0                  0.0                 0.0                   0.0   \n",
       "1                  0.0                 1.0                   0.0   \n",
       "2                  0.0                 1.0                   0.0   \n",
       "3                  0.0                 1.0                   0.0   \n",
       "4                  0.0                 1.0                   0.0   \n",
       "\n",
       "   screener_position_C  screener_position_F  screener_position_F-C  \\\n",
       "0                  0.0                  0.0                    0.0   \n",
       "1                  0.0                  1.0                    0.0   \n",
       "2                  0.0                  0.0                    1.0   \n",
       "3                  0.0                  0.0                    1.0   \n",
       "4                  0.0                  0.0                    1.0   \n",
       "\n",
       "   screener_position_G  screener_position_G-F  \n",
       "0                  1.0                    0.0  \n",
       "1                  0.0                    0.0  \n",
       "2                  0.0                    0.0  \n",
       "3                  0.0                    0.0  \n",
       "4                  0.0                    0.0  \n",
       "\n",
       "[5 rows x 23 columns]"
      ]
     },
     "execution_count": 10,
     "metadata": {},
     "output_type": "execute_result"
    }
   ],
   "source": [
    "from sklearn.preprocessing import StandardScaler, OneHotEncoder\n",
    "\n",
    "# load the data\n",
    "play_features = pd.read_csv('play_features.csv')\n",
    "\n",
    "# drop irrelevant column\n",
    "play_features = play_features.drop(['Unnamed: 0'], axis = 1)\n",
    "\n",
    "# OHE handler_position and screener_position\n",
    "positions = play_features[['handler_position', 'screener_position']].copy()\n",
    "# in positions, modify so that G-F = F-G and F-C = C-F\n",
    "positions = positions.replace({'F-G': 'G-F', 'C-F': 'F-C'})\n",
    "\n",
    "encoder = OneHotEncoder(sparse_output = False)\n",
    "encoded_positions = pd.DataFrame(encoder.fit_transform(positions), columns = encoder.get_feature_names_out())\n",
    "play_features = play_features.drop(['handler_position', 'screener_position'], axis = 1)\n",
    "play_features = pd.concat([play_features, encoded_positions], axis = 1)\n",
    "\n",
    "play_features.head()\n",
    "# standardize numerical features\n",
    "numerical = play_features[play_features.columns[:12]]\n",
    "scaler = StandardScaler()\n",
    "play_features[play_features.columns[:12]] = scaler.fit_transform(numerical)\n",
    "\n",
    "play_features.head()"
   ]
  },
  {
   "cell_type": "code",
   "execution_count": 11,
   "id": "22f1fcf4",
   "metadata": {},
   "outputs": [],
   "source": [
    "# train-test split\n",
    "X = play_features.loc[:, play_features.columns != 'label']\n",
    "y = play_features['label']\n",
    "X_train, X_test, y_train, y_test = train_test_split(X, y, test_size=0.2, random_state=29, stratify = y)"
   ]
  },
  {
   "cell_type": "markdown",
   "id": "78bf4234",
   "metadata": {},
   "source": [
    "With the engineered features, we will try penalized logistic regression, a support vector machine, and an xgBoost model. This provides a range of model types to try out."
   ]
  },
  {
   "cell_type": "code",
   "execution_count": 12,
   "id": "7cfb72ec",
   "metadata": {},
   "outputs": [
    {
     "name": "stdout",
     "output_type": "stream",
     "text": [
      "{'C': 1, 'penalty': 'l2'}\n"
     ]
    }
   ],
   "source": [
    "from sklearn.linear_model import LogisticRegression\n",
    "\n",
    "param_grid = {'penalty': ['l1', 'l2'], 'C': [.01, .1, .5, 1, 2, 5, 10]}\n",
    "\n",
    "# f1_weighted chosen to account for multiclass and label imbalance\n",
    "log_grid_search = GridSearchCV(LogisticRegression(solver = 'liblinear'), param_grid, scoring = 'f1_weighted', cv=5)\n",
    "log_grid_search.fit(X_train, y_train)\n",
    "\n",
    "log_best_params = log_grid_search.best_params_\n",
    "print(log_best_params)"
   ]
  },
  {
   "cell_type": "code",
   "execution_count": 13,
   "id": "847c312d",
   "metadata": {},
   "outputs": [
    {
     "name": "stdout",
     "output_type": "stream",
     "text": [
      "{'C': 10, 'gamma': 0.01, 'kernel': 'rbf'}\n"
     ]
    }
   ],
   "source": [
    "param_grid = {'C': [0.1, .5, 1, 5, 10], 'gamma': [.01, .1, 1], 'kernel': ['linear', 'poly', 'rbf']}\n",
    "\n",
    "svm_grid_search = GridSearchCV(SVC(probability = True), param_grid, refit = True, scoring = \"f1_weighted\", cv=5)\n",
    "svm_grid_search.fit(X_train, y_train)\n",
    "\n",
    "svm_best_params = svm_grid_search.best_params_\n",
    "print(svm_best_params)"
   ]
  },
  {
   "cell_type": "code",
   "execution_count": 16,
   "id": "81b35ea3",
   "metadata": {},
   "outputs": [
    {
     "name": "stdout",
     "output_type": "stream",
     "text": [
      "{'subsample': 1.0, 'n_estimators': 460, 'min_child_weight': 2, 'max_depth': 5, 'eta': 0.1}\n"
     ]
    }
   ],
   "source": [
    "from xgboost import XGBClassifier\n",
    "from sklearn.model_selection import RandomizedSearchCV\n",
    "from sklearn.preprocessing import LabelEncoder\n",
    "\n",
    "# encode y labels\n",
    "y_encoder = LabelEncoder()\n",
    "y_train_encoded = y_encoder.fit_transform(y_train)\n",
    "\n",
    "# here we are using a parameter range\n",
    "param_distribution = {\n",
    "    \"max_depth\": np.arange(0, 10),\n",
    "    \"eta\": np.arange(.1, .6, .1),\n",
    "    \"n_estimators\": np.arange(10, 500, 10),\n",
    "    \"subsample\": np.arange(.1, 1.1, .1),\n",
    "    'min_child_weight': np.arange(1, 5, 1)\n",
    "}\n",
    "\n",
    "# use random search for 15 iterations [arbitrary but reasonable]\n",
    "xgb_random_search = RandomizedSearchCV(XGBClassifier(objective=\"multi:softprob\"), param_distribution, n_iter = 15, scoring = 'f1_weighted', cv = 5, random_state = 29)\n",
    "xgb_random_search.fit(X_train, y_train_encoded)\n",
    "\n",
    "xgb_best_params = xgb_random_search.best_params_\n",
    "print(xgb_best_params)"
   ]
  },
  {
   "cell_type": "code",
   "execution_count": 17,
   "id": "403d63fe",
   "metadata": {},
   "outputs": [
    {
     "name": "stdout",
     "output_type": "stream",
     "text": [
      "Penalized Logistic Regression Accuracy: 0.8409\n",
      "Penalized Logistic Regression F1 Weighted Score: 0.8352\n",
      "Penalized Logistic Regression ROC AUC Score: 0.8787 \n",
      "\n",
      "SVM Accuracy: 0.7955\n",
      "SVM F1 Weighted Score: 0.7919\n",
      "SVM ROC AUC Score: 0.9025 \n",
      "\n",
      "XGBoost Accuracy: 0.7727\n",
      "XGBoost F1 Weighted Score: 0.7608\n",
      "XGBoost ROC AUC Score: 0.8862\n"
     ]
    }
   ],
   "source": [
    "from sklearn.metrics import roc_auc_score\n",
    "# train models\n",
    "log_model = LogisticRegression(C = log_best_params['C'], penalty = log_best_params['penalty'], solver = 'liblinear')\n",
    "svm_model = SVC(C = svm_best_params['C'], gamma = svm_best_params['gamma'], kernel = svm_best_params['kernel'], probability = True)\n",
    "xgb_model = XGBClassifier(objective = \"multi:softprob\", max_depth = xgb_best_params['max_depth'], eta = xgb_best_params['eta'], n_estimators = xgb_best_params['n_estimators'], subsample = xgb_best_params['subsample'], min_child_weight = xgb_best_params['min_child_weight'])\n",
    "\n",
    "log_model.fit(X_train, y_train)\n",
    "svm_model.fit(X_train, y_train)\n",
    "xgb_model.fit(X_train, y_train_encoded)\n",
    "\n",
    "# compare test scores across metrics\n",
    "print(f\"Penalized Logistic Regression Accuracy: {round(log_model.score(X_test, y_test), 4)}\")\n",
    "print(f\"Penalized Logistic Regression F1 Weighted Score: {round(f1_score(y_test, log_model.predict(X_test), average = 'weighted'), 4)}\")\n",
    "print(f\"Penalized Logistic Regression ROC AUC Score: {round(roc_auc_score(y_test, log_model.predict_proba(X_test), multi_class = 'ovr'), 4)} \\n\")\n",
    "\n",
    "print(f\"SVM Accuracy: {round(svm_model.score(X_test, y_test), 4)}\")\n",
    "print(f\"SVM F1 Weighted Score: {round(f1_score(y_test, svm_model.predict(X_test), average = 'weighted'), 4)}\")\n",
    "print(f\"SVM ROC AUC Score: {round(roc_auc_score(y_test, svm_model.predict_proba(X_test), multi_class = 'ovr'), 4)} \\n\")\n",
    "\n",
    "y_test_encoded = y_encoder.transform(y_test)\n",
    "print(f\"XGBoost Accuracy: {round(accuracy_score(y_test_encoded, xgb_model.predict(X_test)), 4)}\")\n",
    "print(f\"XGBoost F1 Weighted Score: {round(f1_score(y_test_encoded, xgb_model.predict(X_test), average = 'weighted'), 4)}\")\n",
    "print(f\"XGBoost ROC AUC Score: {round(roc_auc_score(y_test_encoded, xgb_model.predict_proba(X_test), multi_class = 'ovr'), 4)}\")"
   ]
  },
  {
   "cell_type": "markdown",
   "id": "b9862a90",
   "metadata": {},
   "source": [
    "Surprisingly, penalized logistic regression (in this case L2 penalty with C = 1) outperformed the other models in accuracy and F1 score. It only performed slightly worse in ROC-AUC score, with which they all performed similarly. This 84% test accuracy indicates that there is confidence in the model to correctly classify the action based given candidates as inputs.\n",
    "\n",
    "---------\n",
    "\n",
    "### Final Steps ###\n",
    "\n",
    "The final process of this analysis will be to take the predicted play types, and output the events and time stamps, so that a user could go and watch back clips for video analysis."
   ]
  },
  {
   "cell_type": "code",
   "execution_count": 52,
   "id": "70164539",
   "metadata": {},
   "outputs": [
    {
     "data": {
      "text/html": [
       "<div>\n",
       "<style scoped>\n",
       "    .dataframe tbody tr th:only-of-type {\n",
       "        vertical-align: middle;\n",
       "    }\n",
       "\n",
       "    .dataframe tbody tr th {\n",
       "        vertical-align: top;\n",
       "    }\n",
       "\n",
       "    .dataframe thead th {\n",
       "        text-align: right;\n",
       "    }\n",
       "</style>\n",
       "<table border=\"1\" class=\"dataframe\">\n",
       "  <thead>\n",
       "    <tr style=\"text-align: right;\">\n",
       "      <th></th>\n",
       "      <th>game_id</th>\n",
       "      <th>event_number</th>\n",
       "      <th>start_time</th>\n",
       "      <th>event_desc</th>\n",
       "      <th>handler_name</th>\n",
       "      <th>screener_name</th>\n",
       "      <th>action_type</th>\n",
       "    </tr>\n",
       "  </thead>\n",
       "  <tbody>\n",
       "    <tr>\n",
       "      <th>22</th>\n",
       "      <td>0021500333</td>\n",
       "      <td>324</td>\n",
       "      <td>343.45</td>\n",
       "      <td>Ellis P.FOUL (P2.T4) (S.Corbin) / nan</td>\n",
       "      <td>Goran Dragic</td>\n",
       "      <td>Dwyane Wade</td>\n",
       "      <td>none</td>\n",
       "    </tr>\n",
       "    <tr>\n",
       "      <th>151</th>\n",
       "      <td>0021500115</td>\n",
       "      <td>137</td>\n",
       "      <td>8.95</td>\n",
       "      <td>Pressey Bad Pass Turnover (P1.T2) / Patterson ...</td>\n",
       "      <td>Phil Pressey</td>\n",
       "      <td>Jerami Grant</td>\n",
       "      <td>PNP</td>\n",
       "    </tr>\n",
       "    <tr>\n",
       "      <th>7</th>\n",
       "      <td>0021500333</td>\n",
       "      <td>107</td>\n",
       "      <td>105.66</td>\n",
       "      <td>MISS Stuckey 15' Jump Shot / nan</td>\n",
       "      <td>Paul George</td>\n",
       "      <td>Jordan Hill</td>\n",
       "      <td>PNR</td>\n",
       "    </tr>\n",
       "    <tr>\n",
       "      <th>119</th>\n",
       "      <td>0021500230</td>\n",
       "      <td>379</td>\n",
       "      <td>271.09</td>\n",
       "      <td>nan / MISS Wade 7' Floating Jump Shot</td>\n",
       "      <td>Hassan Whiteside</td>\n",
       "      <td>Josh McRoberts</td>\n",
       "      <td>none</td>\n",
       "    </tr>\n",
       "    <tr>\n",
       "      <th>124</th>\n",
       "      <td>0021500230</td>\n",
       "      <td>409</td>\n",
       "      <td>94.93</td>\n",
       "      <td>nan / Bosh 14' Jump Shot (18 PTS) (Wade 3 AST)</td>\n",
       "      <td>Dwyane Wade</td>\n",
       "      <td>Chris Bosh</td>\n",
       "      <td>PNP</td>\n",
       "    </tr>\n",
       "  </tbody>\n",
       "</table>\n",
       "</div>"
      ],
      "text/plain": [
       "        game_id event_number  start_time  \\\n",
       "22   0021500333          324      343.45   \n",
       "151  0021500115          137        8.95   \n",
       "7    0021500333          107      105.66   \n",
       "119  0021500230          379      271.09   \n",
       "124  0021500230          409       94.93   \n",
       "\n",
       "                                            event_desc      handler_name  \\\n",
       "22               Ellis P.FOUL (P2.T4) (S.Corbin) / nan      Goran Dragic   \n",
       "151  Pressey Bad Pass Turnover (P1.T2) / Patterson ...      Phil Pressey   \n",
       "7                     MISS Stuckey 15' Jump Shot / nan       Paul George   \n",
       "119              nan / MISS Wade 7' Floating Jump Shot  Hassan Whiteside   \n",
       "124     nan / Bosh 14' Jump Shot (18 PTS) (Wade 3 AST)       Dwyane Wade   \n",
       "\n",
       "      screener_name action_type  \n",
       "22      Dwyane Wade        none  \n",
       "151    Jerami Grant         PNP  \n",
       "7       Jordan Hill         PNR  \n",
       "119  Josh McRoberts        none  \n",
       "124      Chris Bosh         PNP  "
      ]
     },
     "execution_count": 52,
     "metadata": {},
     "output_type": "execute_result"
    }
   ],
   "source": [
    "# get index of test set for data with info about the play\n",
    "test_info = new_info.iloc[X_test.index].copy()\n",
    "test_info['action_type'] = log_model.predict(X_test)\n",
    "test_info.head()"
   ]
  },
  {
   "cell_type": "markdown",
   "id": "8af709bd",
   "metadata": {},
   "source": [
    "------\n",
    "\n",
    "### Real-World Application and Interest ###\n",
    "Using this pipeline, from raw coordinate and play-by-play data, actions can be identified and then watched by coaches and staff. This can aid scouting and development.\n",
    "\n",
    "For example, if a coach wanted to watch how a player performed every time they were the ball-handler in the pick-and-roll, the events for the last n games could be processed and potential PNR events could be output. Then the coach can use game film to go back and watch them without having to watch the whole game looking out for these situations.\n",
    "\n",
    "Similarly, if a scout wanted to understand how another team's center operated, they could run the pipeline for all events where the player is in the game and a screener and understand the proportion of pick and rolls to pick and pops.\n",
    "\n",
    "While the outputs may not be entirely correct, as we only achieved 84% accuracy, there is little penalty to incorrectly identifying some events, and much reward to correctly identifying the majority. This is because a subsample of correct events can still inform behavior while little extra may be gleaned from the misclassified ones."
   ]
  },
  {
   "cell_type": "code",
   "execution_count": null,
   "id": "1e2bcad8",
   "metadata": {},
   "outputs": [],
   "source": []
  }
 ],
 "metadata": {
  "kernelspec": {
   "display_name": "Python 3 (ipykernel)",
   "language": "python",
   "name": "python3"
  },
  "language_info": {
   "codemirror_mode": {
    "name": "ipython",
    "version": 3
   },
   "file_extension": ".py",
   "mimetype": "text/x-python",
   "name": "python",
   "nbconvert_exporter": "python",
   "pygments_lexer": "ipython3",
   "version": "3.11.5"
  }
 },
 "nbformat": 4,
 "nbformat_minor": 5
}
